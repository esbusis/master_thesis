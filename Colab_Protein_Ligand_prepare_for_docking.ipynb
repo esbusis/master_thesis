{
 "cells": [
  {
   "cell_type": "code",
   "execution_count": null,
   "metadata": {
    "id": "Azpqty4o9CZc"
   },
   "outputs": [],
   "source": [
    "#Installing pdb2pqr using apt-get\n",
    "!apt-get install -y pdb2pqr\n",
    "\n",
    "#Install conda using the new conda-colab library\n",
    "!pip install -q condacolab\n",
    "import condacolab\n",
    "condacolab.install_miniconda()\n",
    "\n",
    "#Install MGLtools and OpenBabel from\n",
    "#the bioconda repository\n",
    "!conda install -c conda-forge -c bioconda mgltools openbabel zlib --yes\n",
    "\n",
    "import glob\n",
    "import subprocess\n",
    "\n",
    "chembls = glob.glob(\"*.smiles\") # get all the smiles files that are stored in your directory"
   ]
  },
  {
   "cell_type": "code",
   "execution_count": null,
   "metadata": {
    "id": "1HLVnGPJLZ8v"
   },
   "outputs": [],
   "source": [
    "# Protein Preparation\n",
    "\n",
    "!prepare_receptor4.py -r /Users/esbusis/Desktop/files/new/alpha_new.pdb -o /Users/esbusis/Desktop/files/new/alpha_new.pdbqt -A hydrogens -U nphs_lps -v\n",
    "!pdb2pqr --ff=amber --chain --with-ph=7.4 --verbose /Users/esbusis/Desktop/files/new/alpha_new.pdb /Users/esbusis/Desktop/files/new/alpha_new.pqr\n",
    "!prepare_receptor4.py -r /Users/esbusis/Desktop/files/new/alpha_new.pqr -o /Users/esbusis/Desktop/files/new/alpha_new.pdbqt -C -U nphs_lps -v\n"
   ]
  },
  {
   "cell_type": "code",
   "execution_count": null,
   "metadata": {
    "id": "rNorCZKWbGcx"
   },
   "outputs": [],
   "source": [
    "# preparing a bash file to run on the system for converting the files from smiles to mol2 and from mol2 to pdbqt\n",
    "\n",
    "file_name = \"prepare_ligands.sh\"\n",
    "with open(file_name, 'w') as f:\n",
    "    for ligand in chembls:\n",
    "      f.write(\"obabel %s -O %s.mol2 --gen3d best -p 7.4 --canonical ; \\n\" % (ligand,ligand))\n",
    "      f.write(\"echo %s obabel completed. \\n\" % ligand)\n",
    "      f.write(\"prepare_ligand4.py -l %s.mol2 -o %s.pdbqt -U nphs_lps -v ; \\n\" % (ligand,ligand))\n",
    "      f.write(\"echo %s prepare_ligand4 completed. \\n\" % ligand)\n"
   ]
  },
  {
   "cell_type": "code",
   "execution_count": null,
   "metadata": {
    "id": "5w4sx6i8LmD7"
   },
   "outputs": [],
   "source": [
    "# Did not work on Colab, but kept here in case it can be useful\n",
    "def prepare_ligand(ligand):\n",
    "    subprocess.call(\"obabel %s -O %s.mol2 --gen3d best -p 7.4 --canonical ;\" % (ligand,ligand), shell = True)\n",
    "    print(\"%s obabel completed.\" % ligand)\n",
    "    subprocess.call(\"prepare_ligand4.py -l %s.mol2 -o %s.pdbqt -U nphs_lps -v ;\" % (ligand,ligand), shell = True)\n",
    "    print(\"%s prepare_ligand4 completed.\" % ligand)"
   ]
  },
  {
   "cell_type": "code",
   "execution_count": null,
   "metadata": {
    "id": "cUMof_nYc9O5"
   },
   "outputs": [],
   "source": [
    "!chmod +x prepare_ligands.sh\n",
    "!bash /content/prepare_ligands.sh"
   ]
  }
 ],
 "metadata": {
  "colab": {
   "name": "Protein_Ligand_prepare.ipynb",
   "provenance": []
  },
  "kernelspec": {
   "display_name": "Python 3",
   "language": "python",
   "name": "python3"
  },
  "language_info": {
   "codemirror_mode": {
    "name": "ipython",
    "version": 3
   },
   "file_extension": ".py",
   "mimetype": "text/x-python",
   "name": "python",
   "nbconvert_exporter": "python",
   "pygments_lexer": "ipython3",
   "version": "3.8.8"
  }
 },
 "nbformat": 4,
 "nbformat_minor": 1
}
